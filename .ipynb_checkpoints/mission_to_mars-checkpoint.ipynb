{
 "cells": [
  {
   "cell_type": "code",
   "execution_count": 1,
   "metadata": {},
   "outputs": [],
   "source": [
    "from bs4 import BeautifulSoup\n",
    "import requests"
   ]
  },
  {
   "cell_type": "code",
   "execution_count": 2,
   "metadata": {},
   "outputs": [],
   "source": [
    "url = 'https://mars.nasa.gov'\n",
    "html = requests.get(url)\n",
    "soup = BeautifulSoup(html.text)\n",
    "response = soup.find_all('article', class_='news_teaser')"
   ]
  },
  {
   "cell_type": "code",
   "execution_count": 7,
   "metadata": {},
   "outputs": [],
   "source": [
    "news = response[0].find_all('li')"
   ]
  },
  {
   "cell_type": "code",
   "execution_count": 10,
   "metadata": {},
   "outputs": [
    {
     "name": "stdout",
     "output_type": "stream",
     "text": [
      "3\n"
     ]
    },
    {
     "data": {
      "text/plain": [
       "<li>\n",
       "<div class=\"list_image\">\n",
       "<a href=\"/news/8436/why-this-martian-full-moon-looks-like-candy/\">\n",
       "<img alt=\"Three views of the Martian moon Phobos were taken by NASA's 2001 Mars Odyssey orbiter.\" src=\"/system/news_items/list_view_images/8436_PIA23205_annotated-32x24.jpg\"/>\n",
       "</a>\n",
       "</div>\n",
       "<div class=\"list_text\">\n",
       "<div class=\"date\">\n",
       "May  9, 2019\n",
       "</div>\n",
       "<h3 class=\"title\">\n",
       "<a href=\"/news/8436/why-this-martian-full-moon-looks-like-candy/\">Why This Martian Full Moon Looks Like Candy</a>\n",
       "</h3>\n",
       "</div>\n",
       "</li>"
      ]
     },
     "execution_count": 10,
     "metadata": {},
     "output_type": "execute_result"
    }
   ],
   "source": [
    "print(len(news))\n",
    "news[0]"
   ]
  },
  {
   "cell_type": "code",
   "execution_count": 29,
   "metadata": {},
   "outputs": [],
   "source": [
    "news_titles = []\n",
    "news_p = []\n",
    "for i in news:\n",
    "    news_titles.append(i.find('h3', class_='title').text)\n",
    "    news_p.append(i.find('img',alt=True)['alt'])"
   ]
  },
  {
   "cell_type": "code",
   "execution_count": 35,
   "metadata": {},
   "outputs": [],
   "source": [
    "news_titles = [s.strip() for s in news_titles]"
   ]
  },
  {
   "cell_type": "code",
   "execution_count": 36,
   "metadata": {},
   "outputs": [
    {
     "data": {
      "text/plain": [
       "['Why This Martian Full Moon Looks Like Candy',\n",
       " 'For InSight, Dust Cleanings Will Yield New Science',\n",
       " 'InSight Captures Sunrise and Sunset on Mars']"
      ]
     },
     "execution_count": 36,
     "metadata": {},
     "output_type": "execute_result"
    }
   ],
   "source": [
    "news_titles"
   ]
  },
  {
   "cell_type": "code",
   "execution_count": 45,
   "metadata": {},
   "outputs": [],
   "source": [
    "n = news_p[1]\n",
    "news_p[1] = n[1:]\n"
   ]
  },
  {
   "cell_type": "code",
   "execution_count": 46,
   "metadata": {},
   "outputs": [
    {
     "data": {
      "text/plain": [
       "[\"Three views of the Martian moon Phobos were taken by NASA's 2001 Mars Odyssey orbiter.\",\n",
       " \"This is NASA InSight's second full selfie on Mars. Since taking its first selfie, the lander has removed its heat probe and seismometer from its deck, placing them on the Martian surface; a thin coating of dust now covers the spacecraft as well.\",\n",
       " \"NASA's InSight lander used its Instrument Deployment Camera (IDC) on the spacecraft's robotic arm to image this sunrise on Mars on April 24, 2019, the 145th Martian day (or sol) of the mission. This was taken around 5:30 a.m. Mars local time.\"]"
      ]
     },
     "execution_count": 46,
     "metadata": {},
     "output_type": "execute_result"
    }
   ],
   "source": [
    "news_p"
   ]
  },
  {
   "cell_type": "code",
   "execution_count": 52,
   "metadata": {},
   "outputs": [],
   "source": [
    "weather_url =  'https://twitter.com/marswxreport?lang=en'\n",
    "weather_html = requests.get(weather_url)\n",
    "weather_soup = BeautifulSoup(weather_html.text)"
   ]
  },
  {
   "cell_type": "code",
   "execution_count": 65,
   "metadata": {},
   "outputs": [],
   "source": [
    "mars_weather = weather_soup.find('p', class_='TweetTextSize').text"
   ]
  },
  {
   "cell_type": "code",
   "execution_count": 66,
   "metadata": {},
   "outputs": [],
   "source": [
    "mars_weather = mars_weather.replace ('\\n', ',')"
   ]
  },
  {
   "cell_type": "code",
   "execution_count": 67,
   "metadata": {},
   "outputs": [
    {
     "data": {
      "text/plain": [
       "'InSight sol 163 (2019-05-13) low -99.9ºC (-147.7ºF) high -17.7ºC (0.2ºF),winds from the SW at 4.3 m/s (9.7 mph) gusting to 15.2 m/s (34.0 mph),pressure at 7.50 hPapic.twitter.com/qtElTnSRJj'"
      ]
     },
     "execution_count": 67,
     "metadata": {},
     "output_type": "execute_result"
    }
   ],
   "source": [
    "mars_weather "
   ]
  },
  {
   "cell_type": "code",
   "execution_count": null,
   "metadata": {},
   "outputs": [],
   "source": []
  }
 ],
 "metadata": {
  "kernelspec": {
   "display_name": "Python 3",
   "language": "python",
   "name": "python3"
  },
  "language_info": {
   "codemirror_mode": {
    "name": "ipython",
    "version": 3
   },
   "file_extension": ".py",
   "mimetype": "text/x-python",
   "name": "python",
   "nbconvert_exporter": "python",
   "pygments_lexer": "ipython3",
   "version": "3.7.1"
  }
 },
 "nbformat": 4,
 "nbformat_minor": 2
}
